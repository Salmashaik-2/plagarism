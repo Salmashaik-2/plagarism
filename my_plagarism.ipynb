{
 "cells": [
  {
   "cell_type": "code",
   "execution_count": 22,
   "id": "3ad29ff6-299c-470e-858f-39b47b4db808",
   "metadata": {},
   "outputs": [
    {
     "name": "stdout",
     "output_type": "stream",
     "text": [
      "C:\\Users\\shaik\\Documents\\hatti\n"
     ]
    }
   ],
   "source": [
    "cd \"C:\\Users\\shaik\\Documents\\hatti\""
   ]
  },
  {
   "cell_type": "code",
   "execution_count": 23,
   "id": "16af7816-d4e8-4487-b770-10ed9e330919",
   "metadata": {},
   "outputs": [],
   "source": [
    "import os\n",
    "from sklearn.feature_extraction.text import TfidfVectorizer\n",
    "from sklearn.metrics.pairwise import cosine_similarity\n"
   ]
  },
  {
   "cell_type": "code",
   "execution_count": 24,
   "id": "14d4abc5-9f52-4fcb-9ccf-4bb85ec7c0ed",
   "metadata": {},
   "outputs": [],
   "source": [
    "student_files = [doc for doc in os.listdir() if doc.endswith('.txt')]\n",
    "student_notes = [open(_file, encoding='utf-8').read()\n",
    "                 for _file in student_files]"
   ]
  },
  {
   "cell_type": "code",
   "execution_count": 25,
   "id": "d9bc675c-8e36-4c40-9a3b-d94f343c5505",
   "metadata": {},
   "outputs": [],
   "source": [
    "def vectorize(Text): return TfidfVectorizer().fit_transform(Text).toarray()\n",
    "def similarity(doc1, doc2): return cosine_similarity([doc1, doc2])"
   ]
  },
  {
   "cell_type": "code",
   "execution_count": 26,
   "id": "20174ac1-ffc6-4b58-9f13-4dca1e406918",
   "metadata": {},
   "outputs": [],
   "source": [
    "vectors = vectorize(student_notes)\n",
    "s_vectors = list(zip(student_files, vectors))\n",
    "plagiarism_results = set()"
   ]
  },
  {
   "cell_type": "code",
   "execution_count": 27,
   "id": "325ae32d-d66f-4e9b-8bc7-671350059b37",
   "metadata": {},
   "outputs": [],
   "source": [
    "def check_plagiarism():\n",
    "    global s_vectors\n",
    "    for student_a, text_vector_a in s_vectors:\n",
    "        new_vectors = s_vectors.copy()\n",
    "        current_index = new_vectors.index((student_a, text_vector_a))\n",
    "        del new_vectors[current_index]\n",
    "        for student_b, text_vector_b in new_vectors:\n",
    "            sim_score = similarity(text_vector_a, text_vector_b)[0][1]\n",
    "            student_pair = sorted((student_a, student_b))\n",
    "            score = (student_pair[0], student_pair[1], sim_score)\n",
    "            plagiarism_results.add(score)\n",
    "    return plagiarism_results"
   ]
  },
  {
   "cell_type": "code",
   "execution_count": 28,
   "id": "16049c9f-a90c-4c84-8741-0442af9f6155",
   "metadata": {},
   "outputs": [
    {
     "name": "stdout",
     "output_type": "stream",
     "text": [
      "('five.txt', 'four.txt', 0.6840161175513418)\n",
      "('four.txt', 'one.txt', 0.9284247736795246)\n",
      "('five.txt', 'one.txt', 0.7296848155501098)\n",
      "('one.txt', 'two.txt', 0.9675266453388002)\n",
      "('three.txt', 'two.txt', 0.8443040744379303)\n",
      "('four.txt', 'three.txt', 0.8229631881100806)\n",
      "('five.txt', 'two.txt', 0.7235640266077034)\n",
      "('one.txt', 'three.txt', 0.8530544182011355)\n",
      "('four.txt', 'two.txt', 0.9019531711327398)\n",
      "('five.txt', 'three.txt', 0.6501191807240904)\n"
     ]
    }
   ],
   "source": [
    "for data in check_plagiarism():\n",
    "    print(data)\n"
   ]
  }
 ],
 "metadata": {
  "kernelspec": {
   "display_name": "Python 3 (ipykernel)",
   "language": "python",
   "name": "python3"
  },
  "language_info": {
   "codemirror_mode": {
    "name": "ipython",
    "version": 3
   },
   "file_extension": ".py",
   "mimetype": "text/x-python",
   "name": "python",
   "nbconvert_exporter": "python",
   "pygments_lexer": "ipython3",
   "version": "3.11.7"
  }
 },
 "nbformat": 4,
 "nbformat_minor": 5
}
